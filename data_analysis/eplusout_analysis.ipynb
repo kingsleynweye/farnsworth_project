{
 "metadata": {
  "language_info": {
   "codemirror_mode": {
    "name": "ipython",
    "version": 3
   },
   "file_extension": ".py",
   "mimetype": "text/x-python",
   "name": "python",
   "nbconvert_exporter": "python",
   "pygments_lexer": "ipython3",
   "version": "3.7.7-final"
  },
  "orig_nbformat": 2,
  "kernelspec": {
   "name": "Python 3.7.7 64-bit ('base': conda)",
   "display_name": "Python 3.7.7 64-bit ('base': conda)",
   "metadata": {
    "interpreter": {
     "hash": "dca0ade3e726a953b501b15e8e990130d2b7799f14cfd9f4271676035ebe5511"
    }
   }
  }
 },
 "nbformat": 4,
 "nbformat_minor": 2,
 "cells": [
  {
   "source": [
    "# Import Libraries\n",
    "***"
   ],
   "cell_type": "markdown",
   "metadata": {}
  },
  {
   "cell_type": "code",
   "execution_count": 1,
   "metadata": {},
   "outputs": [],
   "source": [
    "import pandas as pd \n",
    "import sqlite3"
   ]
  },
  {
   "source": [
    "# Constants and Variables\n",
    "***"
   ],
   "cell_type": "markdown",
   "metadata": {}
  },
  {
   "cell_type": "code",
   "execution_count": 2,
   "metadata": {},
   "outputs": [],
   "source": [
    "FILEPATH = 'eplusout.sql'"
   ]
  },
  {
   "source": [
    "# Functions\n",
    "***"
   ],
   "cell_type": "markdown",
   "metadata": {}
  },
  {
   "cell_type": "code",
   "execution_count": 3,
   "metadata": {},
   "outputs": [],
   "source": [
    "def connect(filepath):\n",
    "    connection = sqlite3.connect(filepath)\n",
    "    return connection\n",
    "\n",
    "def get_table_names(connection=None):\n",
    "    cursor = connection.cursor()\n",
    "    cursor.execute(\"SELECT name FROM sqlite_master WHERE type='table';\")\n",
    "    table_names = cursor.fetchall()\n",
    "    table_names = [table[0] for table in table_names]\n",
    "    cursor.close()\n",
    "    return table_names\n",
    "\n",
    "def read_table(connection=None,table=None):\n",
    "    query = f'SELECT * FROM {table}'\n",
    "    df = pd.read_sql(query,connection)\n",
    "    return df"
   ]
  },
  {
   "cell_type": "code",
   "execution_count": 4,
   "metadata": {},
   "outputs": [],
   "source": [
    "def main():\n",
    "    connection = connect(filepath=FILEPATH)\n",
    "    table_names = get_table_names(connection=connection)\n",
    "    table_names = sorted(table_names)\n",
    "    df_dict = {}\n",
    "\n",
    "    for table in table_names:\n",
    "        df_dict[table] = read_table(connection=connection,table=table)\n",
    "        print(f'{table} Table shape: {df_dict[table].shape}')\n",
    "\n",
    "    connection.close()"
   ]
  },
  {
   "cell_type": "code",
   "execution_count": 5,
   "metadata": {},
   "outputs": [
    {
     "output_type": "stream",
     "name": "stdout",
     "text": [
      "ComponentSizes Table shape: (144, 6)\n",
      "ConstructionLayers Table shape: (66, 4)\n",
      "Constructions Table shape: (20, 14)\n",
      "DaylightMapHourlyData Table shape: (0, 5)\n",
      "DaylightMapHourlyReports Table shape: (0, 6)\n",
      "DaylightMaps Table shape: (0, 7)\n",
      "EnvironmentPeriods Table shape: (1, 4)\n",
      "Errors Table shape: (106, 5)\n",
      "Materials Table shape: (26, 14)\n",
      "NominalBaseboardHeaters Table shape: (0, 11)\n",
      "NominalElectricEquipment Table shape: (11, 10)\n",
      "NominalGasEquipment Table shape: (0, 10)\n",
      "NominalHotWaterEquipment Table shape: (0, 10)\n",
      "NominalInfiltration Table shape: (11, 5)\n",
      "NominalLighting Table shape: (11, 11)\n",
      "NominalOtherEquipment Table shape: (0, 10)\n",
      "NominalPeople Table shape: (11, 20)\n",
      "NominalSteamEquipment Table shape: (0, 10)\n",
      "NominalVentilation Table shape: (0, 5)\n",
      "ReportData Table shape: (302232, 4)\n",
      "ReportDataDictionary Table shape: (37, 10)\n",
      "ReportExtendedData Table shape: (4392, 14)\n",
      "RoomAirModels Table shape: (11, 5)\n",
      "Schedules Table shape: (63, 5)\n",
      "Simulations Table shape: (1, 6)\n",
      "StringTypes Table shape: (6, 2)\n",
      "Strings Table shape: (1635, 3)\n",
      "Surfaces Table shape: (102, 20)\n",
      "SystemSizes Table shape: (2, 9)\n",
      "TabularData Table shape: (10557, 11)\n",
      "Time Table shape: (61697, 13)\n",
      "ZoneGroups Table shape: (0, 4)\n",
      "ZoneInfoZoneLists Table shape: (11, 2)\n",
      "ZoneLists Table shape: (9, 2)\n",
      "ZoneSizes Table shape: (18, 13)\n",
      "Zones Table shape: (11, 27)\n"
     ]
    }
   ],
   "source": [
    "if __name__ == '__main__':\n",
    "    main()"
   ]
  }
 ]
}